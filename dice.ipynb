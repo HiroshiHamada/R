{
 "cells": [
  {
   "cell_type": "markdown",
   "metadata": {},
   "source": [
    "###  数理行動科学演習資料"
   ]
  },
  {
   "cell_type": "markdown",
   "metadata": {},
   "source": [
    "## サイコロをつくろう"
   ]
  },
  {
   "cell_type": "markdown",
   "metadata": {},
   "source": [
    "最初にパッケージを読みこみます"
   ]
  },
  {
   "cell_type": "code",
   "execution_count": 1,
   "metadata": {
    "collapsed": true
   },
   "outputs": [],
   "source": [
    "import random #乱数発生用\n",
    "import matplotlib.pyplot as plt #ヒストグラム用"
   ]
  },
  {
   "cell_type": "markdown",
   "metadata": {},
   "source": [
    "次にDiceというサイコロ用クラスを定義します"
   ]
  },
  {
   "cell_type": "code",
   "execution_count": 2,
   "metadata": {
    "collapsed": true
   },
   "outputs": [],
   "source": [
    "class Dice:\n",
    "    def shoot(self):\n",
    "        return random.randint(1,6)"
   ]
  },
  {
   "cell_type": "markdown",
   "metadata": {},
   "source": [
    "この Diceというクラスでは，1～6の整数乱数を発生させる\n",
    "shootというメソッドを定義しています．\n",
    "\n",
    "このままでは，サイコロを振ることができないので，\n",
    "Diceクラスのオブジェクトをインスタンス化します．\n",
    "\n",
    "インスタンス化 = オブジェクトの実例を作る，くらいの意味だと考えてください．"
   ]
  },
  {
   "cell_type": "code",
   "execution_count": 3,
   "metadata": {
    "collapsed": true
   },
   "outputs": [],
   "source": [
    "sai = Dice() #Diceクラスのインスタンス化"
   ]
  },
  {
   "cell_type": "markdown",
   "metadata": {},
   "source": [
    "これでsaiという名前のオブジェクトが定義されました．\n",
    "次にsaiのメソッドを呼び出してみましょう\n",
    "\n",
    "Diceクラスにはshootしかメソッドがありません．"
   ]
  },
  {
   "cell_type": "code",
   "execution_count": 6,
   "metadata": {},
   "outputs": [
    {
     "data": {
      "text/plain": [
       "1"
      ]
     },
     "execution_count": 6,
     "metadata": {},
     "output_type": "execute_result"
    }
   ],
   "source": [
    "sai.shoot() #メソッドの呼び出し"
   ]
  },
  {
   "cell_type": "markdown",
   "metadata": {},
   "source": [
    "このように，メソッドを使うには，\n",
    "\n",
    "オブジェクト名.メソッド名()\n",
    "\n",
    "のように，「.」のあとに続けてメソッド名を書きます.\n",
    "メソッドが引数をとらない場合は()を最後につけます．\n",
    "引数がある場合は\n",
    "\n",
    "オブジェクト名.メソッド名(メソッドの引数)\n",
    "\n",
    "という具合に使います．"
   ]
  },
  {
   "cell_type": "markdown",
   "metadata": {},
   "source": [
    "さて，sai.shoot()は実行するたびにサイコロを振るので結果が\n",
    "異なるので，同じサイコロを五回振ってみましょう\n",
    "\n",
    "そのためにfor文でサイコロ振りの結果をリストxに記録します"
   ]
  },
  {
   "cell_type": "code",
   "execution_count": 8,
   "metadata": {},
   "outputs": [
    {
     "data": {
      "text/plain": [
       "[2, 5, 4, 1, 5, 5, 6, 5, 3, 2]"
      ]
     },
     "execution_count": 8,
     "metadata": {},
     "output_type": "execute_result"
    }
   ],
   "source": [
    "x=[]\n",
    "for i in range(10): # 10回繰り返し．rrangeで指定\n",
    "    x.append(sai.shoot()) #list用メソッドappendを使う\n",
    "x #結果の呼び出し"
   ]
  },
  {
   "cell_type": "markdown",
   "metadata": {},
   "source": [
    "## x面体サイコロ"
   ]
  },
  {
   "cell_type": "markdown",
   "metadata": {},
   "source": [
    "つぎに，6面体だけでなく，10面体や20面体など好きな面数のサイコロを\n",
    "つくってみましょう\n",
    "\n",
    "そのためにfaceという引数を使って，面数を選べるサイコロ用クラスを\n",
    "新たに作ります"
   ]
  },
  {
   "cell_type": "code",
   "execution_count": 10,
   "metadata": {
    "collapsed": true
   },
   "outputs": [],
   "source": [
    "class Dice:\n",
    "    def __init__(self, x):\n",
    "        self.face = x\n",
    "        print(\"This dice has\",x,\"faces\" )\n",
    "    def shoot(self):\n",
    "        return random.randint(1, self.face)"
   ]
  },
  {
   "cell_type": "markdown",
   "metadata": {},
   "source": [
    "さっきと同じDiceというクラスを定義しました．\n",
    "したがってDiceクラスは上書きされます．\n",
    "\n",
    "あたらしいクラスでは，初期化メソッド（コンストラクタとも言う）\n",
    "\n",
    "def __init__(self, 引数):\n",
    "\n",
    "を使っています．初期化メソッドにより，faceという属性を定義しています．\n",
    "インスタンス化する際にface属性に引数の値を代入します．ここでは\n",
    "face属性がサイコロの面数を表しています．好きな面数を定義するために\n",
    "引数化しています．\n",
    "\n",
    "なおselfを明示的に指定するのはpythonの特徴です．最初はよく書き忘れるので\n",
    "注意しましょう（わたしもよく忘れます）．\n",
    "\n",
    "ではインスタンス化してみましょう"
   ]
  },
  {
   "cell_type": "code",
   "execution_count": 13,
   "metadata": {},
   "outputs": [
    {
     "name": "stdout",
     "output_type": "stream",
     "text": [
      "This dice has 10 faces\n"
     ]
    }
   ],
   "source": [
    "sai10 = Dice(10) # 10面体サイコロ"
   ]
  },
  {
   "cell_type": "markdown",
   "metadata": {},
   "source": [
    "インスタンス化すると「This dice has 10 faces（これは10面体のさいころです）」という\n",
    "メッセージが出てきました．初期化メソッドの2行目でprintするように指定したからです．\n",
    "\n",
    "では振ってみましょう．10面体さいころなので1～10の数値がでます"
   ]
  },
  {
   "cell_type": "code",
   "execution_count": 16,
   "metadata": {},
   "outputs": [
    {
     "data": {
      "text/plain": [
       "1"
      ]
     },
     "execution_count": 16,
     "metadata": {},
     "output_type": "execute_result"
    }
   ],
   "source": [
    "sai10.shoot()"
   ]
  },
  {
   "cell_type": "markdown",
   "metadata": {},
   "source": [
    "つぎに20回連続してふってみましょう"
   ]
  },
  {
   "cell_type": "code",
   "execution_count": 19,
   "metadata": {},
   "outputs": [
    {
     "data": {
      "text/plain": [
       "[2, 6, 9, 4, 10, 10, 1, 1, 5, 8, 2, 1, 9, 4, 6, 4, 6, 7, 1, 10]"
      ]
     },
     "execution_count": 19,
     "metadata": {},
     "output_type": "execute_result"
    }
   ],
   "source": [
    "x=[]\n",
    "for i in range(20):\n",
    "    x.append(sai10.shoot())\n",
    "x"
   ]
  },
  {
   "cell_type": "markdown",
   "metadata": {},
   "source": [
    "なお，このappendの使いかたは計算結果を保存するためによく使うので\n",
    "覚えておいてください"
   ]
  },
  {
   "cell_type": "markdown",
   "metadata": {},
   "source": [
    "最後にサイコロ振りの結果をヒストグラムで可視化してみましょう．\n",
    "\n",
    "まず plotをインライン表示するオプションを有効にします"
   ]
  },
  {
   "cell_type": "code",
   "execution_count": 27,
   "metadata": {},
   "outputs": [],
   "source": [
    "%matplotlib inline"
   ]
  },
  {
   "cell_type": "markdown",
   "metadata": {},
   "source": [
    "for文でサイコロを1万回振り，各目が何回出たのか調べます\n",
    "これはhistメソッドが勝手にやってくれます"
   ]
  },
  {
   "cell_type": "code",
   "execution_count": 25,
   "metadata": {},
   "outputs": [
    {
     "data": {
      "text/plain": [
       "(array([  994.,  1001.,  1016.,   999.,  1013.,   964.,   963.,  1023.,\n",
       "          993.,  1034.]),\n",
       " array([  1. ,   1.9,   2.8,   3.7,   4.6,   5.5,   6.4,   7.3,   8.2,\n",
       "          9.1,  10. ]),\n",
       " <a list of 10 Patch objects>)"
      ]
     },
     "execution_count": 25,
     "metadata": {},
     "output_type": "execute_result"
    },
    {
     "data": {
      "image/png": "[encoded data removed]",
      "text/plain": [
       "<matplotlib.figure.Figure at 0x20ea4cc4eb8>"
      ]
     },
     "metadata": {},
     "output_type": "display_data"
    }
   ],
   "source": [
    "x=[]\n",
    "for i in range(10000):\n",
    "    x.append(sai10.shoot())\n",
    "    \n",
    "plt.hist(x)# ヒストグラムを出力\n",
    "\n"
   ]
  },
  {
   "cell_type": "code",
   "execution_count": 24,
   "metadata": {
    "collapsed": true
   },
   "outputs": [],
   "source": []
  },
  {
   "cell_type": "code",
   "execution_count": null,
   "metadata": {
    "collapsed": true
   },
   "outputs": [],
   "source": [
    "各目が大体1000回前後出現した様子が観察できました\n",
    "\n",
    "\n",
    "\n"
   ]
  }
 ],
 "metadata": {
  "kernelspec": {
   "display_name": "Python 3",
   "language": "python",
   "name": "python3"
  },
  "language_info": {
   "codemirror_mode": {
    "name": "ipython",
    "version": 3
   },
   "file_extension": ".py",
   "mimetype": "text/x-python",
   "name": "python",
   "nbconvert_exporter": "python",
   "pygments_lexer": "ipython3",
   "version": "3.6.1"
  }
 },
 "nbformat": 4,
 "nbformat_minor": 2
}
